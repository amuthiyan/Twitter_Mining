{
 "cells": [
  {
   "cell_type": "code",
   "execution_count": 12,
   "metadata": {},
   "outputs": [],
   "source": [
    "'''\n",
    "A script to download and store all tweets related to a particular topic that the user chooses.\n",
    "Accesses the Twitter API using a package called tweepy\n",
    "Stores the tweets in a json file format\n",
    "Worked on by Aneesh Muthiyan and Ayushi Shrivastav.\n",
    "Code partially taken from https://marcobonzanini.com/2015/03/02/mining-twitter-data-with-python-part-1/\n",
    "'''\n",
    "import sys\n",
    "import tweepy\n",
    "import json\n",
    "from tweepy import OAuthHandler\n",
    "from datetime import datetime"
   ]
  },
  {
   "cell_type": "code",
   "execution_count": 33,
   "metadata": {
    "scrolled": true
   },
   "outputs": [
    {
     "name": "stdout",
     "output_type": "stream",
     "text": [
      "What topic: vote\n",
      "2019 11 16 00:30:01 5 RT @btsvotingteam01: MASS VOTE ON AAA + AMAs!👉🏿👍🏾👇🏾👇🏾👇🏾👇🏾👇🏾👇🏾👇🏾👍🏾👈🏿👉🏿👉🏾👍🏽👇🏽👇🏽👇🏽👇🏽👇🏽👍🏽👈🏾👈🏿👉🏿👉🏾👉🏽👍🏼👇🏼👇🏼👇🏼👍🏼👈🏽👈🏾👈🏿👉🏿👉🏾👉🏽👉🏼👍🏻👇🏻👍🏻👈🏼👈🏽👈🏾👈🏿…\n",
      "Error on_data: 'charmap' codec can't encode characters in position 67-154: character maps to <undefined>\n",
      "2019 11 16 00:30:01 5 RT @mkolken: I'm not a Trump voter and oppose many (most?) of his policies. That said, anyone with any intellectual honesty can see that th…\n",
      "2019 11 16 00:30:01 5 RT @DavidMelEdwards: RT @Peteadams8: Cause and Effect nominated for the Top 50 Best Indie Books 2019 Crime/Thriller section.  Please can I…\n",
      "2019 11 16 00:30:01 5 RT @Shnrch33: This is CRAZY!! I’m so glad the Americans people can see what a Schiff show this is! It’s a complete circus &amp; so apparent wha…\n",
      "2019 11 16 00:30:01 5 RT @NewDayForNJ: Good Morning Patriots!☀️🇺🇸Launching my 2020 #YearOfTheRepublicanWomen Victory Campaign to help Pres Trump’s re-election &amp;…\n",
      "Error on_data: 'charmap' codec can't encode characters in position 61-64: character maps to <undefined>\n",
      "2019 11 16 00:30:01 5 RT @NewAmericanLd: By launching @fairfightaction and @faircount and working tirelessly to defeat voter suppression, @staceyabrams has becom…\n",
      "2019 11 16 00:30:01 5 @JRubinBlogger Leftist, Bolshevik, feminist, anti male, anti white. US population 300 million. 100,000 who cares. T… https://t.co/jpcpb3wdS2\n",
      "2019 11 16 00:30:01 5 RT @PJAxemurderer: the voting age should be the age of the youngest person in the US in prison as an adult, which is 12 i am pretty sure, i…\n",
      "2019 11 16 00:30:01 5 @ActuallyaDino Two of my professors were married the whole time they worked at my law school but their colleagues a… https://t.co/RCP1gLeRpl\n",
      "2019 11 16 00:30:01 5 I cast my Heisman ballot for #JoeBurrow! Click the player you think deserves the Heisman House vote. (📍@NissanUSA)\n",
      "Error on_data: 'charmap' codec can't encode character '\\U0001f4cd' in position 124: character maps to <undefined>\n",
      "2019 11 16 00:30:01 5 RT @NamjoonsTrouble: Alrighty moots it’s the final stretch!! Pls take a sec and nominate me in the comments on her post! Thanks a bunch! Y’…\n",
      "2019 11 16 00:30:01 5 RT @politico: It’s beginning to feel a lot like…impeachment? There’s no confirmed timeline for a vote, but @MZanona sees signs that things…\n",
      "2019 11 16 00:30:01 5 RT @JimMFelton: If anyone is still wondering whether to vote Tory, here's renowned shit Tommy Robinson on Russia Today endorsing Boris John…\n",
      "2019 11 16 00:30:01 5 RT @btsvotingteam01: Remember that AMAs is important too!#PowerfulAAArmys let’s get it!Tutorial: https://t.co/IuVKtJ107OVote Here: htt…\n",
      "2019 11 16 00:30:01 5 BC: Two things are infinite.  The universe and _____.WC: Hotel room BiblesVote on this Pair to help teach our AI… https://t.co/elPbE89Pps\n",
      "2019 11 16 00:30:02 5 RT @TinFoilAwards: Time for the next group of four, but first we say goodbye to Stephanie Seneff, who does not qualify for the 2020 tournam…\n",
      "2019 11 16 00:30:02 5 RT @solchus83: #MAMAVOTE #monstax⚠️‼️ MONBEBE, i need your attention here, just one vote in a day is allowed per account, but every RT is…\n",
      "Error on_data: 'charmap' codec can't encode characters in position 55-58: character maps to <undefined>\n",
      "2019 11 16 00:30:02 5 RT @ChartMVT: #2019AAA: BOYGROUP@BTS_twt @OfficialMonstaX @Stray_Kids@weareoneEXO-Follow us to validate your vote✅\n",
      "Error on_data: 'charmap' codec can't encode character '\\u2705' in position 135: character maps to <undefined>\n",
      "2019 11 16 00:30:02 5 RT @btsvotingteam: #PowerfulAAArmys take note that:• AMAs will end on Nov. 20.• AAA will end on Nov. 22.BTS (@BTS_twt) only has ARMYs…\n",
      "2019 11 16 00:30:02 5 Que paso con las AFP las isapres las jubilaciones huenones cuantas políticos de mierda bajen sus sueldos hasta cuan… https://t.co/0ALT3FGkoY\n",
      "2019 11 16 00:30:02 5 RT @Doinbmid: pick me 💋vote me! I can dance sexy hot well! https://t.co/mGXb7MkyjT https://t.co/L3kM7momol\n",
      "Error on_data: 'charmap' codec can't encode character '\\U0001f48b' in position 44: character maps to <undefined>\n",
      "2019 11 16 00:30:02 5 It’s One Thing to Say You’re Pro-Life. But Do You Vote Pro-Life? https://t.co/eCrOGmISc0\n",
      "2019 11 16 00:30:02 5 RT @Phillip2020Vote: @realDonaldTrump @EddieRispone Again- Louisiana if you don’t want health insurance vote @EddieRispone for Governor.…\n",
      "2019 11 16 00:30:02 5 RT @MakinMyHairGray: Check this out!!! Be careful and pay attention when voting!! https://t.co/5uIRsiSw4X\n",
      "2019 11 16 00:30:02 5 Can. Not. Imagine. #DoSomething #GunReformNow\n",
      "2019 11 16 00:30:02 5 Two Republican state Senators had similar reactions to an Albany Times Union report.It detailed an accusation the… https://t.co/j6WioUMnQs\n",
      "2019 11 16 00:30:02 5 RT @SKZGallery_INA: ❤️           ❤️ ❤️        ❤️    ❤️   ❤️        ❤️❤️ ❤️ ❤️❤️       ❤️❤️       ❤️❤️ ❤️ ❤️❤️❤️❤️❤️        ❤️…\n",
      "Error on_data: 'charmap' codec can't encode characters in position 42-43: character maps to <undefined>\n",
      "2019 11 16 00:30:02 5 RT @Forjiminyopjm: Guys~~!!🏃‍♂️🏃‍♀️🏃‍♂️✨🏃‍♂️✨🏃‍♂️✨✨✨✨Vote #JIMIN✨✨✨Our vote is our passionin the morning and at night24-hour votingY…\n",
      "Error on_data: 'charmap' codec can't encode characters in position 49-74: character maps to <undefined>\n",
      "2019 11 16 00:30:02 5 RT @btsanalytics: RT to vote @BTS_twt for MAMA Worldwide Fans' Choice award!#MAMAVOTE #BTS https://t.co/LBX0Jb81xz\n",
      "2019 11 16 00:30:02 5 RT @maxie_P: GO ON https://t.co/kviLANuEVz AND VOTE FOR SHATTA WALETO WIN NOW 🔥Retweet now @shattawalegh to reach SM fans to also cast the…\n",
      "Error on_data: 'charmap' codec can't encode character '\\U0001f525' in position 100: character maps to <undefined>\n",
      "2019 11 16 00:30:02 5 RT @MONBEBEnt: This is MONBEBE ent‼VOTING PARTY HAS STARTED‼PLEASE VOTE FOR MONSTA X ON MAMA‼Nomination: WORLDWIDE'S FANS CHOICE1 T…\n",
      "Error on_data: 'charmap' codec can't encode character '\\u203c' in position 56: character maps to <undefined>\n",
      "2019 11 16 00:30:02 5 RT @MONBEBEnt: This is MONBEBE ent‼VOTING PARTY HAS STARTED‼PLEASE VOTE FOR MONSTA X ON MAMA‼Nomination: WORLDWIDE'S FANS CHOICE1 T…\n",
      "Error on_data: 'charmap' codec can't encode character '\\u203c' in position 56: character maps to <undefined>\n",
      "2019 11 16 00:30:03 5 RT @TedraCobb: I’m proud to be endorsed by @StopBigMoney!  My opponent @EliseStefanik has accepted hundreds of thousands of dollars from…\n",
      "2019 11 16 00:30:03 5 RT @memeliza1: Blinks let's vote for our pinks😘Thank you😊 #MAMAVOTE #blackpink @ygofficialblink https://t.co/uH1bXPxuPR\n",
      "Error on_data: 'charmap' codec can't encode character '\\U0001f618' in position 68: character maps to <undefined>\n",
      "2019 11 16 00:30:03 5 I cast my Heisman ballot for #JoeBurrow! Click the player you think deserves the Heisman House vote. (📍@NissanUSA)\n",
      "Error on_data: 'charmap' codec can't encode character '\\U0001f4cd' in position 124: character maps to <undefined>\n",
      "2019 11 16 00:30:03 5 RT @misoultraining: Here’s the link to vote for MJ 👍🏼 #MJFam #MichaelJackson  https://t.co/NCyTVGbvPh\n",
      "Error on_data: 'charmap' codec can't encode characters in position 73-74: character maps to <undefined>\n",
      "2019 11 16 00:30:03 5 RT @kaleidascope0: All I want to know is.. Why does your hair dresser hate you 😂 https://t.co/NuPZOYQwjs\n",
      "Error on_data: 'charmap' codec can't encode character '\\U0001f602' in position 101: character maps to <undefined>\n",
      "2019 11 16 00:30:03 5 RT @chelleryn99: I have a lot of respect for polling expert John Curtis so decided to watch this analysis. I took one thing from it...Johns…\n",
      "2019 11 16 00:30:03 5 Congressional vote on “de facto QM Patch” postponed #realestate https://t.co/CFHeikbMja\n",
      "2019 11 16 00:30:03 5 RT @btsvotingteam01: Remember that AMAs is important too!#PowerfulAAArmys let’s get it!Tutorial: https://t.co/IuVKtJ107OVote Here: htt…\n",
      "2019 11 16 00:30:03 5 RT @btsvotingteam: We don’t know what is the exact number we have on AMAs. Keep fighting for @BTS_twt! 🗳Tutorial: https://t.co/YQLeDUcxlX…\n",
      "Error on_data: 'charmap' codec can't encode character '\\U0001f5f3' in position 125: character maps to <undefined>\n",
      "2019 11 16 00:30:03 5 RT @moni_lisa: If this JLP Administration keeps its promise and gives St. Thomas proper roads and the new Urban Centre, they will have my v…\n",
      "2019 11 16 00:30:03 5 RT @SaysDana: Have you ever felt something shift?  I did.  It was today.1. Impeachment Hearing2. Hearing from friends local and far that…\n"
     ]
    },
    {
     "name": "stdout",
     "output_type": "stream",
     "text": [
      "2019 11 16 00:30:03 5 RT @EXOVotingSquad: MELON MUSIC AWARDS 2019📆  - 11.29Artist:2ndBest Album:2ndBest Song:2ndNetizen Popularity:2ndBest Dance:2ndHave…\n",
      "Error on_data: 'charmap' codec can't encode character '\\U0001f4c6' in position 65: character maps to <undefined>\n",
      "2019 11 16 00:30:03 5 I cast my Heisman ballot for #JoeBurrow! Click the player you think deserves the Heisman House vote. (📍@NissanUSA)\n",
      "Error on_data: 'charmap' codec can't encode character '\\U0001f4cd' in position 124: character maps to <undefined>\n",
      "2019 11 16 00:30:03 5 RT @B_LEAGUE: #Bリーグオールスタースターティング5を決める「ファン投票」実施中❄️「B.スマコレ10連ガチャ」が始まりました✨①WEB投票https://t.co/w3dmfgNCud②「B.スマコレ」投票③「B.スマコレ 10連ガチャ」投票 ←🆕…\n",
      "Error on_data: 'charmap' codec can't encode characters in position 38-53: character maps to <undefined>\n",
      "2019 11 16 00:30:04 5 RT @btsvotingteam01: MASS VOTE ON AAA + AMAs!👉🏿👍🏾👇🏾👇🏾👇🏾👇🏾👇🏾👇🏾👇🏾👍🏾👈🏿👉🏿👉🏾👍🏽👇🏽👇🏽👇🏽👇🏽👇🏽👍🏽👈🏾👈🏿👉🏿👉🏾👉🏽👍🏼👇🏼👇🏼👇🏼👍🏼👈🏽👈🏾👈🏿👉🏿👉🏾👉🏽👉🏼👍🏻👇🏻👍🏻👈🏼👈🏽👈🏾👈🏿…\n",
      "Error on_data: 'charmap' codec can't encode characters in position 67-154: character maps to <undefined>\n",
      "2019 11 16 00:30:04 5 RT @Lumberist: Everything is going as predicted.Vote liberal &amp; the economy tanks.  Sure glad the media protected Trudeau.  It’s not like…\n",
      "2019 11 16 00:30:04 5 RT @usmc40471: ARMY we are losing yet again! Please vote...we need those radio spins.@BTS_twt https://t.co/usZxH6aDpX\n",
      "2019 11 16 00:30:04 5 RT @jookiheon: vote for monsta x so we can see minhyuk and kihyun go crazy #MAMAVOTE #monstax @OfficialMonstaX  https://t.co/5FHtjjveFv\n",
      "2019 11 16 00:30:04 5 RT @IlhanMN: Donald Trump has gotten away with every single one of his corrupt deeds so far.Now, for the first time in his life, he will…\n",
      "2019 11 16 00:30:04 5 RT @DreamitCon: C'est probablement le plus gros sondage qu'on ait fait ! Votez ici : https://t.co/7ZbkBDcTse // It's probably the biggest p…\n",
      "2019 11 16 00:30:04 5 RT @JulieReichwein1: FBI WARRANT: You won’t believe the jihadists that Ilhan Omar is linked to-Vote Laura Loomer for Congress-The Antidote…\n",
      "2019 11 16 00:30:04 5 @NikkiHaley With all due respect, any iota I had for you is now zero because of your participation in this cover up… https://t.co/aRQ47QUNnu\n",
      "2019 11 16 00:30:04 5 RT @stayspedia: 📢 AAA MASS VOTING KE- 8Stay mass voting kita yang ke 8 sudah di mulai 🙌 Vote di AAA hari ini gunakan  setiap akun yg kali…\n",
      "Error on_data: 'charmap' codec can't encode character '\\U0001f4e2' in position 38: character maps to <undefined>\n",
      "2019 11 16 00:30:05 5 @britinbrtain @BorisJohnson Three comments. Yet you’re either too thick or too bone idle to google the answer to yo… https://t.co/MpKarSK3Er\n",
      "2019 11 16 00:30:05 5 RT @iamjasonbailey: Imagine living in a world where truth doesn’t matter.Where facts are hijacked by fiction, a story of opinion that we…\n",
      "2019 11 16 00:30:05 5 @CentralDeFasLS @newsls @spiessantana Votei na opção 'LUAN SANTANA' em 'Troféu Domingão 2019: vote na categoria Ca… https://t.co/uLWZoFH71W\n",
      "2019 11 16 00:30:05 5 RT @btsvotingteam: #BTS current standing on MMA 2019!11/15 || 1:20PM KST:🌟#1 Artist Award [+132,782]➚🌟#1 Album Award [+128,013]➚🌟#1 K…\n",
      "Error on_data: 'charmap' codec can't encode character '\\U0001f31f' in position 95: character maps to <undefined>\n",
      "2019 11 16 00:30:05 5 100% sure jonghyun is top 11 🤷‍♀️\n",
      "Error on_data: 'charmap' codec can't encode characters in position 51-54: character maps to <undefined>\n",
      "2019 11 16 00:30:05 5 When is it the appropriate time to decorate for Christmas?*Before Thanksgiving*After Thanksgiving*Whenever you… https://t.co/6n9d06nO0b\n",
      "2019 11 16 00:30:05 5 I cast my Heisman ballot for #JoeBurrow! Click the player you think deserves the Heisman House vote. (📍@NissanUSA)\n",
      "Error on_data: 'charmap' codec can't encode character '\\U0001f4cd' in position 124: character maps to <undefined>\n",
      "2019 11 16 00:30:05 5 RT @LuckyHeronSay: #isitok that #ChildrenInNeed is on so close to a chance to boot the Tories out?Child poverty had gone through the roof…\n",
      "2019 11 16 00:30:05 5 RT @lckloops: one rt=one vote#MAMAVOTE #monstax  https://t.co/xfShnCYrkl\n",
      "2019 11 16 00:30:05 5 RT @ArchRose90: I’m far from a fan of Tommy Robinson but this is complete hyperbole. I’ll vote Conservative for many reasons, a main reason…\n",
      "2019 11 16 00:30:05 5 RT @shadow_twts: So TIME's Person of the Year 2019 Poll is back and @BTS_twt is nominated.This time, you would require to sign up with an…\n",
      "2019 11 16 00:30:05 5 When is it the appropriate time to decorate for Christmas?*Before Thanksgiving*After Thanksgiving*Whenever you… https://t.co/hGJn1eHrLj\n",
      "2019 11 16 00:30:05 5 Join an event on the eve of a historic House impeachment vote! https://t.co/EJbdP4v67Y\n"
     ]
    },
    {
     "ename": "KeyboardInterrupt",
     "evalue": "",
     "output_type": "error",
     "traceback": [
      "\u001b[1;31m---------------------------------------------------------------------------\u001b[0m",
      "\u001b[1;31mWantReadError\u001b[0m                             Traceback (most recent call last)",
      "\u001b[1;32m~\\Anaconda3\\lib\\site-packages\\urllib3\\contrib\\pyopenssl.py\u001b[0m in \u001b[0;36mrecv_into\u001b[1;34m(self, *args, **kwargs)\u001b[0m\n\u001b[0;32m    296\u001b[0m         \u001b[1;32mtry\u001b[0m\u001b[1;33m:\u001b[0m\u001b[1;33m\u001b[0m\u001b[1;33m\u001b[0m\u001b[0m\n\u001b[1;32m--> 297\u001b[1;33m             \u001b[1;32mreturn\u001b[0m \u001b[0mself\u001b[0m\u001b[1;33m.\u001b[0m\u001b[0mconnection\u001b[0m\u001b[1;33m.\u001b[0m\u001b[0mrecv_into\u001b[0m\u001b[1;33m(\u001b[0m\u001b[1;33m*\u001b[0m\u001b[0margs\u001b[0m\u001b[1;33m,\u001b[0m \u001b[1;33m**\u001b[0m\u001b[0mkwargs\u001b[0m\u001b[1;33m)\u001b[0m\u001b[1;33m\u001b[0m\u001b[1;33m\u001b[0m\u001b[0m\n\u001b[0m\u001b[0;32m    298\u001b[0m         \u001b[1;32mexcept\u001b[0m \u001b[0mOpenSSL\u001b[0m\u001b[1;33m.\u001b[0m\u001b[0mSSL\u001b[0m\u001b[1;33m.\u001b[0m\u001b[0mSysCallError\u001b[0m \u001b[1;32mas\u001b[0m \u001b[0me\u001b[0m\u001b[1;33m:\u001b[0m\u001b[1;33m\u001b[0m\u001b[1;33m\u001b[0m\u001b[0m\n",
      "\u001b[1;32m~\\Anaconda3\\lib\\site-packages\\OpenSSL\\SSL.py\u001b[0m in \u001b[0;36mrecv_into\u001b[1;34m(self, buffer, nbytes, flags)\u001b[0m\n\u001b[0;32m   1821\u001b[0m             \u001b[0mresult\u001b[0m \u001b[1;33m=\u001b[0m \u001b[0m_lib\u001b[0m\u001b[1;33m.\u001b[0m\u001b[0mSSL_read\u001b[0m\u001b[1;33m(\u001b[0m\u001b[0mself\u001b[0m\u001b[1;33m.\u001b[0m\u001b[0m_ssl\u001b[0m\u001b[1;33m,\u001b[0m \u001b[0mbuf\u001b[0m\u001b[1;33m,\u001b[0m \u001b[0mnbytes\u001b[0m\u001b[1;33m)\u001b[0m\u001b[1;33m\u001b[0m\u001b[1;33m\u001b[0m\u001b[0m\n\u001b[1;32m-> 1822\u001b[1;33m         \u001b[0mself\u001b[0m\u001b[1;33m.\u001b[0m\u001b[0m_raise_ssl_error\u001b[0m\u001b[1;33m(\u001b[0m\u001b[0mself\u001b[0m\u001b[1;33m.\u001b[0m\u001b[0m_ssl\u001b[0m\u001b[1;33m,\u001b[0m \u001b[0mresult\u001b[0m\u001b[1;33m)\u001b[0m\u001b[1;33m\u001b[0m\u001b[1;33m\u001b[0m\u001b[0m\n\u001b[0m\u001b[0;32m   1823\u001b[0m \u001b[1;33m\u001b[0m\u001b[0m\n",
      "\u001b[1;32m~\\Anaconda3\\lib\\site-packages\\OpenSSL\\SSL.py\u001b[0m in \u001b[0;36m_raise_ssl_error\u001b[1;34m(self, ssl, result)\u001b[0m\n\u001b[0;32m   1621\u001b[0m         \u001b[1;32mif\u001b[0m \u001b[0merror\u001b[0m \u001b[1;33m==\u001b[0m \u001b[0m_lib\u001b[0m\u001b[1;33m.\u001b[0m\u001b[0mSSL_ERROR_WANT_READ\u001b[0m\u001b[1;33m:\u001b[0m\u001b[1;33m\u001b[0m\u001b[1;33m\u001b[0m\u001b[0m\n\u001b[1;32m-> 1622\u001b[1;33m             \u001b[1;32mraise\u001b[0m \u001b[0mWantReadError\u001b[0m\u001b[1;33m(\u001b[0m\u001b[1;33m)\u001b[0m\u001b[1;33m\u001b[0m\u001b[1;33m\u001b[0m\u001b[0m\n\u001b[0m\u001b[0;32m   1623\u001b[0m         \u001b[1;32melif\u001b[0m \u001b[0merror\u001b[0m \u001b[1;33m==\u001b[0m \u001b[0m_lib\u001b[0m\u001b[1;33m.\u001b[0m\u001b[0mSSL_ERROR_WANT_WRITE\u001b[0m\u001b[1;33m:\u001b[0m\u001b[1;33m\u001b[0m\u001b[1;33m\u001b[0m\u001b[0m\n",
      "\u001b[1;31mWantReadError\u001b[0m: ",
      "\nDuring handling of the above exception, another exception occurred:\n",
      "\u001b[1;31mKeyboardInterrupt\u001b[0m                         Traceback (most recent call last)",
      "\u001b[1;32m<ipython-input-33-a1bf0d787f26>\u001b[0m in \u001b[0;36m<module>\u001b[1;34m\u001b[0m\n\u001b[0;32m     62\u001b[0m     \u001b[0mf\u001b[0m\u001b[1;33m.\u001b[0m\u001b[0mwrite\u001b[0m\u001b[1;33m(\u001b[0m\u001b[1;34m'\\n'\u001b[0m\u001b[1;33m)\u001b[0m\u001b[1;33m\u001b[0m\u001b[1;33m\u001b[0m\u001b[0m\n\u001b[0;32m     63\u001b[0m \u001b[0mtwitter_stream\u001b[0m \u001b[1;33m=\u001b[0m \u001b[0mStream\u001b[0m\u001b[1;33m(\u001b[0m\u001b[0mauth\u001b[0m\u001b[1;33m,\u001b[0m \u001b[0mMyListener\u001b[0m\u001b[1;33m(\u001b[0m\u001b[1;33m)\u001b[0m\u001b[1;33m)\u001b[0m\u001b[1;33m\u001b[0m\u001b[1;33m\u001b[0m\u001b[0m\n\u001b[1;32m---> 64\u001b[1;33m \u001b[0mtwitter_stream\u001b[0m\u001b[1;33m.\u001b[0m\u001b[0mfilter\u001b[0m\u001b[1;33m(\u001b[0m\u001b[0mtrack\u001b[0m\u001b[1;33m=\u001b[0m\u001b[1;33m[\u001b[0m\u001b[0mtopic\u001b[0m\u001b[1;33m]\u001b[0m\u001b[1;33m)\u001b[0m\u001b[1;33m\u001b[0m\u001b[1;33m\u001b[0m\u001b[0m\n\u001b[0m",
      "\u001b[1;32m~\\Anaconda3\\lib\\site-packages\\tweepy\\streaming.py\u001b[0m in \u001b[0;36mfilter\u001b[1;34m(self, follow, track, is_async, locations, stall_warnings, languages, encoding, filter_level)\u001b[0m\n\u001b[0;32m    472\u001b[0m             \u001b[0mself\u001b[0m\u001b[1;33m.\u001b[0m\u001b[0mbody\u001b[0m\u001b[1;33m[\u001b[0m\u001b[1;34m'filter_level'\u001b[0m\u001b[1;33m]\u001b[0m \u001b[1;33m=\u001b[0m \u001b[0mfilter_level\u001b[0m\u001b[1;33m.\u001b[0m\u001b[0mencode\u001b[0m\u001b[1;33m(\u001b[0m\u001b[0mencoding\u001b[0m\u001b[1;33m)\u001b[0m\u001b[1;33m\u001b[0m\u001b[1;33m\u001b[0m\u001b[0m\n\u001b[0;32m    473\u001b[0m         \u001b[0mself\u001b[0m\u001b[1;33m.\u001b[0m\u001b[0msession\u001b[0m\u001b[1;33m.\u001b[0m\u001b[0mparams\u001b[0m \u001b[1;33m=\u001b[0m \u001b[1;33m{\u001b[0m\u001b[1;34m'delimited'\u001b[0m\u001b[1;33m:\u001b[0m \u001b[1;34m'length'\u001b[0m\u001b[1;33m}\u001b[0m\u001b[1;33m\u001b[0m\u001b[1;33m\u001b[0m\u001b[0m\n\u001b[1;32m--> 474\u001b[1;33m         \u001b[0mself\u001b[0m\u001b[1;33m.\u001b[0m\u001b[0m_start\u001b[0m\u001b[1;33m(\u001b[0m\u001b[0mis_async\u001b[0m\u001b[1;33m)\u001b[0m\u001b[1;33m\u001b[0m\u001b[1;33m\u001b[0m\u001b[0m\n\u001b[0m\u001b[0;32m    475\u001b[0m \u001b[1;33m\u001b[0m\u001b[0m\n\u001b[0;32m    476\u001b[0m     def sitestream(self, follow, stall_warnings=False,\n",
      "\u001b[1;32m~\\Anaconda3\\lib\\site-packages\\tweepy\\streaming.py\u001b[0m in \u001b[0;36m_start\u001b[1;34m(self, is_async)\u001b[0m\n\u001b[0;32m    387\u001b[0m             \u001b[0mself\u001b[0m\u001b[1;33m.\u001b[0m\u001b[0m_thread\u001b[0m\u001b[1;33m.\u001b[0m\u001b[0mstart\u001b[0m\u001b[1;33m(\u001b[0m\u001b[1;33m)\u001b[0m\u001b[1;33m\u001b[0m\u001b[1;33m\u001b[0m\u001b[0m\n\u001b[0;32m    388\u001b[0m         \u001b[1;32melse\u001b[0m\u001b[1;33m:\u001b[0m\u001b[1;33m\u001b[0m\u001b[1;33m\u001b[0m\u001b[0m\n\u001b[1;32m--> 389\u001b[1;33m             \u001b[0mself\u001b[0m\u001b[1;33m.\u001b[0m\u001b[0m_run\u001b[0m\u001b[1;33m(\u001b[0m\u001b[1;33m)\u001b[0m\u001b[1;33m\u001b[0m\u001b[1;33m\u001b[0m\u001b[0m\n\u001b[0m\u001b[0;32m    390\u001b[0m \u001b[1;33m\u001b[0m\u001b[0m\n\u001b[0;32m    391\u001b[0m     \u001b[1;32mdef\u001b[0m \u001b[0mon_closed\u001b[0m\u001b[1;33m(\u001b[0m\u001b[0mself\u001b[0m\u001b[1;33m,\u001b[0m \u001b[0mresp\u001b[0m\u001b[1;33m)\u001b[0m\u001b[1;33m:\u001b[0m\u001b[1;33m\u001b[0m\u001b[1;33m\u001b[0m\u001b[0m\n",
      "\u001b[1;32m~\\Anaconda3\\lib\\site-packages\\tweepy\\streaming.py\u001b[0m in \u001b[0;36m_run\u001b[1;34m(self)\u001b[0m\n\u001b[0;32m    287\u001b[0m                     \u001b[0mself\u001b[0m\u001b[1;33m.\u001b[0m\u001b[0msnooze_time\u001b[0m \u001b[1;33m=\u001b[0m \u001b[0mself\u001b[0m\u001b[1;33m.\u001b[0m\u001b[0msnooze_time_step\u001b[0m\u001b[1;33m\u001b[0m\u001b[1;33m\u001b[0m\u001b[0m\n\u001b[0;32m    288\u001b[0m                     \u001b[0mself\u001b[0m\u001b[1;33m.\u001b[0m\u001b[0mlistener\u001b[0m\u001b[1;33m.\u001b[0m\u001b[0mon_connect\u001b[0m\u001b[1;33m(\u001b[0m\u001b[1;33m)\u001b[0m\u001b[1;33m\u001b[0m\u001b[1;33m\u001b[0m\u001b[0m\n\u001b[1;32m--> 289\u001b[1;33m                     \u001b[0mself\u001b[0m\u001b[1;33m.\u001b[0m\u001b[0m_read_loop\u001b[0m\u001b[1;33m(\u001b[0m\u001b[0mresp\u001b[0m\u001b[1;33m)\u001b[0m\u001b[1;33m\u001b[0m\u001b[1;33m\u001b[0m\u001b[0m\n\u001b[0m\u001b[0;32m    290\u001b[0m             \u001b[1;32mexcept\u001b[0m \u001b[1;33m(\u001b[0m\u001b[0mTimeout\u001b[0m\u001b[1;33m,\u001b[0m \u001b[0mssl\u001b[0m\u001b[1;33m.\u001b[0m\u001b[0mSSLError\u001b[0m\u001b[1;33m)\u001b[0m \u001b[1;32mas\u001b[0m \u001b[0mexc\u001b[0m\u001b[1;33m:\u001b[0m\u001b[1;33m\u001b[0m\u001b[1;33m\u001b[0m\u001b[0m\n\u001b[0;32m    291\u001b[0m                 \u001b[1;31m# This is still necessary, as a SSLError can actually be\u001b[0m\u001b[1;33m\u001b[0m\u001b[1;33m\u001b[0m\u001b[1;33m\u001b[0m\u001b[0m\n",
      "\u001b[1;32m~\\Anaconda3\\lib\\site-packages\\tweepy\\streaming.py\u001b[0m in \u001b[0;36m_read_loop\u001b[1;34m(self, resp)\u001b[0m\n\u001b[0;32m    337\u001b[0m             \u001b[0mlength\u001b[0m \u001b[1;33m=\u001b[0m \u001b[1;36m0\u001b[0m\u001b[1;33m\u001b[0m\u001b[1;33m\u001b[0m\u001b[0m\n\u001b[0;32m    338\u001b[0m             \u001b[1;32mwhile\u001b[0m \u001b[1;32mnot\u001b[0m \u001b[0mresp\u001b[0m\u001b[1;33m.\u001b[0m\u001b[0mraw\u001b[0m\u001b[1;33m.\u001b[0m\u001b[0mclosed\u001b[0m\u001b[1;33m:\u001b[0m\u001b[1;33m\u001b[0m\u001b[1;33m\u001b[0m\u001b[0m\n\u001b[1;32m--> 339\u001b[1;33m                 \u001b[0mline\u001b[0m \u001b[1;33m=\u001b[0m \u001b[0mbuf\u001b[0m\u001b[1;33m.\u001b[0m\u001b[0mread_line\u001b[0m\u001b[1;33m(\u001b[0m\u001b[1;33m)\u001b[0m\u001b[1;33m\u001b[0m\u001b[1;33m\u001b[0m\u001b[0m\n\u001b[0m\u001b[0;32m    340\u001b[0m                 \u001b[0mstripped_line\u001b[0m \u001b[1;33m=\u001b[0m \u001b[0mline\u001b[0m\u001b[1;33m.\u001b[0m\u001b[0mstrip\u001b[0m\u001b[1;33m(\u001b[0m\u001b[1;33m)\u001b[0m \u001b[1;32mif\u001b[0m \u001b[0mline\u001b[0m \u001b[1;32melse\u001b[0m \u001b[0mline\u001b[0m \u001b[1;31m# line is sometimes None so we need to check here\u001b[0m\u001b[1;33m\u001b[0m\u001b[1;33m\u001b[0m\u001b[0m\n\u001b[0;32m    341\u001b[0m                 \u001b[1;32mif\u001b[0m \u001b[1;32mnot\u001b[0m \u001b[0mstripped_line\u001b[0m\u001b[1;33m:\u001b[0m\u001b[1;33m\u001b[0m\u001b[1;33m\u001b[0m\u001b[0m\n",
      "\u001b[1;32m~\\Anaconda3\\lib\\site-packages\\tweepy\\streaming.py\u001b[0m in \u001b[0;36mread_line\u001b[1;34m(self, sep)\u001b[0m\n\u001b[0;32m    198\u001b[0m             \u001b[1;32melse\u001b[0m\u001b[1;33m:\u001b[0m\u001b[1;33m\u001b[0m\u001b[1;33m\u001b[0m\u001b[0m\n\u001b[0;32m    199\u001b[0m                 \u001b[0mstart\u001b[0m \u001b[1;33m=\u001b[0m \u001b[0mlen\u001b[0m\u001b[1;33m(\u001b[0m\u001b[0mself\u001b[0m\u001b[1;33m.\u001b[0m\u001b[0m_buffer\u001b[0m\u001b[1;33m)\u001b[0m\u001b[1;33m\u001b[0m\u001b[1;33m\u001b[0m\u001b[0m\n\u001b[1;32m--> 200\u001b[1;33m             \u001b[0mself\u001b[0m\u001b[1;33m.\u001b[0m\u001b[0m_buffer\u001b[0m \u001b[1;33m+=\u001b[0m \u001b[0mself\u001b[0m\u001b[1;33m.\u001b[0m\u001b[0m_stream\u001b[0m\u001b[1;33m.\u001b[0m\u001b[0mread\u001b[0m\u001b[1;33m(\u001b[0m\u001b[0mself\u001b[0m\u001b[1;33m.\u001b[0m\u001b[0m_chunk_size\u001b[0m\u001b[1;33m)\u001b[0m\u001b[1;33m\u001b[0m\u001b[1;33m\u001b[0m\u001b[0m\n\u001b[0m\u001b[0;32m    201\u001b[0m         \u001b[1;32mreturn\u001b[0m \u001b[0msix\u001b[0m\u001b[1;33m.\u001b[0m\u001b[0mb\u001b[0m\u001b[1;33m(\u001b[0m\u001b[1;34m''\u001b[0m\u001b[1;33m)\u001b[0m\u001b[1;33m\u001b[0m\u001b[1;33m\u001b[0m\u001b[0m\n\u001b[0;32m    202\u001b[0m \u001b[1;33m\u001b[0m\u001b[0m\n",
      "\u001b[1;32m~\\Anaconda3\\lib\\site-packages\\urllib3\\response.py\u001b[0m in \u001b[0;36mread\u001b[1;34m(self, amt, decode_content, cache_content)\u001b[0m\n\u001b[0;32m    440\u001b[0m             \u001b[1;32melse\u001b[0m\u001b[1;33m:\u001b[0m\u001b[1;33m\u001b[0m\u001b[1;33m\u001b[0m\u001b[0m\n\u001b[0;32m    441\u001b[0m                 \u001b[0mcache_content\u001b[0m \u001b[1;33m=\u001b[0m \u001b[1;32mFalse\u001b[0m\u001b[1;33m\u001b[0m\u001b[1;33m\u001b[0m\u001b[0m\n\u001b[1;32m--> 442\u001b[1;33m                 \u001b[0mdata\u001b[0m \u001b[1;33m=\u001b[0m \u001b[0mself\u001b[0m\u001b[1;33m.\u001b[0m\u001b[0m_fp\u001b[0m\u001b[1;33m.\u001b[0m\u001b[0mread\u001b[0m\u001b[1;33m(\u001b[0m\u001b[0mamt\u001b[0m\u001b[1;33m)\u001b[0m\u001b[1;33m\u001b[0m\u001b[1;33m\u001b[0m\u001b[0m\n\u001b[0m\u001b[0;32m    443\u001b[0m                 \u001b[1;32mif\u001b[0m \u001b[0mamt\u001b[0m \u001b[1;33m!=\u001b[0m \u001b[1;36m0\u001b[0m \u001b[1;32mand\u001b[0m \u001b[1;32mnot\u001b[0m \u001b[0mdata\u001b[0m\u001b[1;33m:\u001b[0m  \u001b[1;31m# Platform-specific: Buggy versions of Python.\u001b[0m\u001b[1;33m\u001b[0m\u001b[1;33m\u001b[0m\u001b[0m\n\u001b[0;32m    444\u001b[0m                     \u001b[1;31m# Close the connection when no data is returned\u001b[0m\u001b[1;33m\u001b[0m\u001b[1;33m\u001b[0m\u001b[1;33m\u001b[0m\u001b[0m\n",
      "\u001b[1;32m~\\Anaconda3\\lib\\http\\client.py\u001b[0m in \u001b[0;36mread\u001b[1;34m(self, amt)\u001b[0m\n\u001b[0;32m    455\u001b[0m             \u001b[1;31m# Amount is given, implement using readinto\u001b[0m\u001b[1;33m\u001b[0m\u001b[1;33m\u001b[0m\u001b[1;33m\u001b[0m\u001b[0m\n\u001b[0;32m    456\u001b[0m             \u001b[0mb\u001b[0m \u001b[1;33m=\u001b[0m \u001b[0mbytearray\u001b[0m\u001b[1;33m(\u001b[0m\u001b[0mamt\u001b[0m\u001b[1;33m)\u001b[0m\u001b[1;33m\u001b[0m\u001b[1;33m\u001b[0m\u001b[0m\n\u001b[1;32m--> 457\u001b[1;33m             \u001b[0mn\u001b[0m \u001b[1;33m=\u001b[0m \u001b[0mself\u001b[0m\u001b[1;33m.\u001b[0m\u001b[0mreadinto\u001b[0m\u001b[1;33m(\u001b[0m\u001b[0mb\u001b[0m\u001b[1;33m)\u001b[0m\u001b[1;33m\u001b[0m\u001b[1;33m\u001b[0m\u001b[0m\n\u001b[0m\u001b[0;32m    458\u001b[0m             \u001b[1;32mreturn\u001b[0m \u001b[0mmemoryview\u001b[0m\u001b[1;33m(\u001b[0m\u001b[0mb\u001b[0m\u001b[1;33m)\u001b[0m\u001b[1;33m[\u001b[0m\u001b[1;33m:\u001b[0m\u001b[0mn\u001b[0m\u001b[1;33m]\u001b[0m\u001b[1;33m.\u001b[0m\u001b[0mtobytes\u001b[0m\u001b[1;33m(\u001b[0m\u001b[1;33m)\u001b[0m\u001b[1;33m\u001b[0m\u001b[1;33m\u001b[0m\u001b[0m\n\u001b[0;32m    459\u001b[0m         \u001b[1;32melse\u001b[0m\u001b[1;33m:\u001b[0m\u001b[1;33m\u001b[0m\u001b[1;33m\u001b[0m\u001b[0m\n",
      "\u001b[1;32m~\\Anaconda3\\lib\\http\\client.py\u001b[0m in \u001b[0;36mreadinto\u001b[1;34m(self, b)\u001b[0m\n\u001b[0;32m    489\u001b[0m \u001b[1;33m\u001b[0m\u001b[0m\n\u001b[0;32m    490\u001b[0m         \u001b[1;32mif\u001b[0m \u001b[0mself\u001b[0m\u001b[1;33m.\u001b[0m\u001b[0mchunked\u001b[0m\u001b[1;33m:\u001b[0m\u001b[1;33m\u001b[0m\u001b[1;33m\u001b[0m\u001b[0m\n\u001b[1;32m--> 491\u001b[1;33m             \u001b[1;32mreturn\u001b[0m \u001b[0mself\u001b[0m\u001b[1;33m.\u001b[0m\u001b[0m_readinto_chunked\u001b[0m\u001b[1;33m(\u001b[0m\u001b[0mb\u001b[0m\u001b[1;33m)\u001b[0m\u001b[1;33m\u001b[0m\u001b[1;33m\u001b[0m\u001b[0m\n\u001b[0m\u001b[0;32m    492\u001b[0m \u001b[1;33m\u001b[0m\u001b[0m\n\u001b[0;32m    493\u001b[0m         \u001b[1;32mif\u001b[0m \u001b[0mself\u001b[0m\u001b[1;33m.\u001b[0m\u001b[0mlength\u001b[0m \u001b[1;32mis\u001b[0m \u001b[1;32mnot\u001b[0m \u001b[1;32mNone\u001b[0m\u001b[1;33m:\u001b[0m\u001b[1;33m\u001b[0m\u001b[1;33m\u001b[0m\u001b[0m\n",
      "\u001b[1;32m~\\Anaconda3\\lib\\http\\client.py\u001b[0m in \u001b[0;36m_readinto_chunked\u001b[1;34m(self, b)\u001b[0m\n\u001b[0;32m    584\u001b[0m         \u001b[1;32mtry\u001b[0m\u001b[1;33m:\u001b[0m\u001b[1;33m\u001b[0m\u001b[1;33m\u001b[0m\u001b[0m\n\u001b[0;32m    585\u001b[0m             \u001b[1;32mwhile\u001b[0m \u001b[1;32mTrue\u001b[0m\u001b[1;33m:\u001b[0m\u001b[1;33m\u001b[0m\u001b[1;33m\u001b[0m\u001b[0m\n\u001b[1;32m--> 586\u001b[1;33m                 \u001b[0mchunk_left\u001b[0m \u001b[1;33m=\u001b[0m \u001b[0mself\u001b[0m\u001b[1;33m.\u001b[0m\u001b[0m_get_chunk_left\u001b[0m\u001b[1;33m(\u001b[0m\u001b[1;33m)\u001b[0m\u001b[1;33m\u001b[0m\u001b[1;33m\u001b[0m\u001b[0m\n\u001b[0m\u001b[0;32m    587\u001b[0m                 \u001b[1;32mif\u001b[0m \u001b[0mchunk_left\u001b[0m \u001b[1;32mis\u001b[0m \u001b[1;32mNone\u001b[0m\u001b[1;33m:\u001b[0m\u001b[1;33m\u001b[0m\u001b[1;33m\u001b[0m\u001b[0m\n\u001b[0;32m    588\u001b[0m                     \u001b[1;32mreturn\u001b[0m \u001b[0mtotal_bytes\u001b[0m\u001b[1;33m\u001b[0m\u001b[1;33m\u001b[0m\u001b[0m\n",
      "\u001b[1;32m~\\Anaconda3\\lib\\http\\client.py\u001b[0m in \u001b[0;36m_get_chunk_left\u001b[1;34m(self)\u001b[0m\n\u001b[0;32m    552\u001b[0m                 \u001b[0mself\u001b[0m\u001b[1;33m.\u001b[0m\u001b[0m_safe_read\u001b[0m\u001b[1;33m(\u001b[0m\u001b[1;36m2\u001b[0m\u001b[1;33m)\u001b[0m  \u001b[1;31m# toss the CRLF at the end of the chunk\u001b[0m\u001b[1;33m\u001b[0m\u001b[1;33m\u001b[0m\u001b[0m\n\u001b[0;32m    553\u001b[0m             \u001b[1;32mtry\u001b[0m\u001b[1;33m:\u001b[0m\u001b[1;33m\u001b[0m\u001b[1;33m\u001b[0m\u001b[0m\n\u001b[1;32m--> 554\u001b[1;33m                 \u001b[0mchunk_left\u001b[0m \u001b[1;33m=\u001b[0m \u001b[0mself\u001b[0m\u001b[1;33m.\u001b[0m\u001b[0m_read_next_chunk_size\u001b[0m\u001b[1;33m(\u001b[0m\u001b[1;33m)\u001b[0m\u001b[1;33m\u001b[0m\u001b[1;33m\u001b[0m\u001b[0m\n\u001b[0m\u001b[0;32m    555\u001b[0m             \u001b[1;32mexcept\u001b[0m \u001b[0mValueError\u001b[0m\u001b[1;33m:\u001b[0m\u001b[1;33m\u001b[0m\u001b[1;33m\u001b[0m\u001b[0m\n\u001b[0;32m    556\u001b[0m                 \u001b[1;32mraise\u001b[0m \u001b[0mIncompleteRead\u001b[0m\u001b[1;33m(\u001b[0m\u001b[1;34mb''\u001b[0m\u001b[1;33m)\u001b[0m\u001b[1;33m\u001b[0m\u001b[1;33m\u001b[0m\u001b[0m\n",
      "\u001b[1;32m~\\Anaconda3\\lib\\http\\client.py\u001b[0m in \u001b[0;36m_read_next_chunk_size\u001b[1;34m(self)\u001b[0m\n\u001b[0;32m    512\u001b[0m     \u001b[1;32mdef\u001b[0m \u001b[0m_read_next_chunk_size\u001b[0m\u001b[1;33m(\u001b[0m\u001b[0mself\u001b[0m\u001b[1;33m)\u001b[0m\u001b[1;33m:\u001b[0m\u001b[1;33m\u001b[0m\u001b[1;33m\u001b[0m\u001b[0m\n\u001b[0;32m    513\u001b[0m         \u001b[1;31m# Read the next chunk size from the file\u001b[0m\u001b[1;33m\u001b[0m\u001b[1;33m\u001b[0m\u001b[1;33m\u001b[0m\u001b[0m\n\u001b[1;32m--> 514\u001b[1;33m         \u001b[0mline\u001b[0m \u001b[1;33m=\u001b[0m \u001b[0mself\u001b[0m\u001b[1;33m.\u001b[0m\u001b[0mfp\u001b[0m\u001b[1;33m.\u001b[0m\u001b[0mreadline\u001b[0m\u001b[1;33m(\u001b[0m\u001b[0m_MAXLINE\u001b[0m \u001b[1;33m+\u001b[0m \u001b[1;36m1\u001b[0m\u001b[1;33m)\u001b[0m\u001b[1;33m\u001b[0m\u001b[1;33m\u001b[0m\u001b[0m\n\u001b[0m\u001b[0;32m    515\u001b[0m         \u001b[1;32mif\u001b[0m \u001b[0mlen\u001b[0m\u001b[1;33m(\u001b[0m\u001b[0mline\u001b[0m\u001b[1;33m)\u001b[0m \u001b[1;33m>\u001b[0m \u001b[0m_MAXLINE\u001b[0m\u001b[1;33m:\u001b[0m\u001b[1;33m\u001b[0m\u001b[1;33m\u001b[0m\u001b[0m\n\u001b[0;32m    516\u001b[0m             \u001b[1;32mraise\u001b[0m \u001b[0mLineTooLong\u001b[0m\u001b[1;33m(\u001b[0m\u001b[1;34m\"chunk size\"\u001b[0m\u001b[1;33m)\u001b[0m\u001b[1;33m\u001b[0m\u001b[1;33m\u001b[0m\u001b[0m\n",
      "\u001b[1;32m~\\Anaconda3\\lib\\socket.py\u001b[0m in \u001b[0;36mreadinto\u001b[1;34m(self, b)\u001b[0m\n\u001b[0;32m    587\u001b[0m         \u001b[1;32mwhile\u001b[0m \u001b[1;32mTrue\u001b[0m\u001b[1;33m:\u001b[0m\u001b[1;33m\u001b[0m\u001b[1;33m\u001b[0m\u001b[0m\n\u001b[0;32m    588\u001b[0m             \u001b[1;32mtry\u001b[0m\u001b[1;33m:\u001b[0m\u001b[1;33m\u001b[0m\u001b[1;33m\u001b[0m\u001b[0m\n\u001b[1;32m--> 589\u001b[1;33m                 \u001b[1;32mreturn\u001b[0m \u001b[0mself\u001b[0m\u001b[1;33m.\u001b[0m\u001b[0m_sock\u001b[0m\u001b[1;33m.\u001b[0m\u001b[0mrecv_into\u001b[0m\u001b[1;33m(\u001b[0m\u001b[0mb\u001b[0m\u001b[1;33m)\u001b[0m\u001b[1;33m\u001b[0m\u001b[1;33m\u001b[0m\u001b[0m\n\u001b[0m\u001b[0;32m    590\u001b[0m             \u001b[1;32mexcept\u001b[0m \u001b[0mtimeout\u001b[0m\u001b[1;33m:\u001b[0m\u001b[1;33m\u001b[0m\u001b[1;33m\u001b[0m\u001b[0m\n\u001b[0;32m    591\u001b[0m                 \u001b[0mself\u001b[0m\u001b[1;33m.\u001b[0m\u001b[0m_timeout_occurred\u001b[0m \u001b[1;33m=\u001b[0m \u001b[1;32mTrue\u001b[0m\u001b[1;33m\u001b[0m\u001b[1;33m\u001b[0m\u001b[0m\n",
      "\u001b[1;32m~\\Anaconda3\\lib\\site-packages\\urllib3\\contrib\\pyopenssl.py\u001b[0m in \u001b[0;36mrecv_into\u001b[1;34m(self, *args, **kwargs)\u001b[0m\n\u001b[0;32m    307\u001b[0m                 \u001b[1;32mraise\u001b[0m\u001b[1;33m\u001b[0m\u001b[1;33m\u001b[0m\u001b[0m\n\u001b[0;32m    308\u001b[0m         \u001b[1;32mexcept\u001b[0m \u001b[0mOpenSSL\u001b[0m\u001b[1;33m.\u001b[0m\u001b[0mSSL\u001b[0m\u001b[1;33m.\u001b[0m\u001b[0mWantReadError\u001b[0m\u001b[1;33m:\u001b[0m\u001b[1;33m\u001b[0m\u001b[1;33m\u001b[0m\u001b[0m\n\u001b[1;32m--> 309\u001b[1;33m             \u001b[1;32mif\u001b[0m \u001b[1;32mnot\u001b[0m \u001b[0mutil\u001b[0m\u001b[1;33m.\u001b[0m\u001b[0mwait_for_read\u001b[0m\u001b[1;33m(\u001b[0m\u001b[0mself\u001b[0m\u001b[1;33m.\u001b[0m\u001b[0msocket\u001b[0m\u001b[1;33m,\u001b[0m \u001b[0mself\u001b[0m\u001b[1;33m.\u001b[0m\u001b[0msocket\u001b[0m\u001b[1;33m.\u001b[0m\u001b[0mgettimeout\u001b[0m\u001b[1;33m(\u001b[0m\u001b[1;33m)\u001b[0m\u001b[1;33m)\u001b[0m\u001b[1;33m:\u001b[0m\u001b[1;33m\u001b[0m\u001b[1;33m\u001b[0m\u001b[0m\n\u001b[0m\u001b[0;32m    310\u001b[0m                 \u001b[1;32mraise\u001b[0m \u001b[0mtimeout\u001b[0m\u001b[1;33m(\u001b[0m\u001b[1;34m'The read operation timed out'\u001b[0m\u001b[1;33m)\u001b[0m\u001b[1;33m\u001b[0m\u001b[1;33m\u001b[0m\u001b[0m\n\u001b[0;32m    311\u001b[0m             \u001b[1;32melse\u001b[0m\u001b[1;33m:\u001b[0m\u001b[1;33m\u001b[0m\u001b[1;33m\u001b[0m\u001b[0m\n",
      "\u001b[1;32m~\\Anaconda3\\lib\\site-packages\\urllib3\\util\\wait.py\u001b[0m in \u001b[0;36mwait_for_read\u001b[1;34m(sock, timeout)\u001b[0m\n\u001b[0;32m    141\u001b[0m     \u001b[0mReturns\u001b[0m \u001b[1;32mTrue\u001b[0m \u001b[1;32mif\u001b[0m \u001b[0mthe\u001b[0m \u001b[0msocket\u001b[0m \u001b[1;32mis\u001b[0m \u001b[0mreadable\u001b[0m\u001b[1;33m,\u001b[0m \u001b[1;32mor\u001b[0m \u001b[1;32mFalse\u001b[0m \u001b[1;32mif\u001b[0m \u001b[0mthe\u001b[0m \u001b[0mtimeout\u001b[0m \u001b[0mexpired\u001b[0m\u001b[1;33m.\u001b[0m\u001b[1;33m\u001b[0m\u001b[1;33m\u001b[0m\u001b[0m\n\u001b[0;32m    142\u001b[0m     \"\"\"\n\u001b[1;32m--> 143\u001b[1;33m     \u001b[1;32mreturn\u001b[0m \u001b[0mwait_for_socket\u001b[0m\u001b[1;33m(\u001b[0m\u001b[0msock\u001b[0m\u001b[1;33m,\u001b[0m \u001b[0mread\u001b[0m\u001b[1;33m=\u001b[0m\u001b[1;32mTrue\u001b[0m\u001b[1;33m,\u001b[0m \u001b[0mtimeout\u001b[0m\u001b[1;33m=\u001b[0m\u001b[0mtimeout\u001b[0m\u001b[1;33m)\u001b[0m\u001b[1;33m\u001b[0m\u001b[1;33m\u001b[0m\u001b[0m\n\u001b[0m\u001b[0;32m    144\u001b[0m \u001b[1;33m\u001b[0m\u001b[0m\n\u001b[0;32m    145\u001b[0m \u001b[1;33m\u001b[0m\u001b[0m\n",
      "\u001b[1;32m~\\Anaconda3\\lib\\site-packages\\urllib3\\util\\wait.py\u001b[0m in \u001b[0;36mselect_wait_for_socket\u001b[1;34m(sock, read, write, timeout)\u001b[0m\n\u001b[0;32m     81\u001b[0m     \u001b[1;31m# thing.)\u001b[0m\u001b[1;33m\u001b[0m\u001b[1;33m\u001b[0m\u001b[1;33m\u001b[0m\u001b[0m\n\u001b[0;32m     82\u001b[0m     \u001b[0mfn\u001b[0m \u001b[1;33m=\u001b[0m \u001b[0mpartial\u001b[0m\u001b[1;33m(\u001b[0m\u001b[0mselect\u001b[0m\u001b[1;33m.\u001b[0m\u001b[0mselect\u001b[0m\u001b[1;33m,\u001b[0m \u001b[0mrcheck\u001b[0m\u001b[1;33m,\u001b[0m \u001b[0mwcheck\u001b[0m\u001b[1;33m,\u001b[0m \u001b[0mwcheck\u001b[0m\u001b[1;33m)\u001b[0m\u001b[1;33m\u001b[0m\u001b[1;33m\u001b[0m\u001b[0m\n\u001b[1;32m---> 83\u001b[1;33m     \u001b[0mrready\u001b[0m\u001b[1;33m,\u001b[0m \u001b[0mwready\u001b[0m\u001b[1;33m,\u001b[0m \u001b[0mxready\u001b[0m \u001b[1;33m=\u001b[0m \u001b[0m_retry_on_intr\u001b[0m\u001b[1;33m(\u001b[0m\u001b[0mfn\u001b[0m\u001b[1;33m,\u001b[0m \u001b[0mtimeout\u001b[0m\u001b[1;33m)\u001b[0m\u001b[1;33m\u001b[0m\u001b[1;33m\u001b[0m\u001b[0m\n\u001b[0m\u001b[0;32m     84\u001b[0m     \u001b[1;32mreturn\u001b[0m \u001b[0mbool\u001b[0m\u001b[1;33m(\u001b[0m\u001b[0mrready\u001b[0m \u001b[1;32mor\u001b[0m \u001b[0mwready\u001b[0m \u001b[1;32mor\u001b[0m \u001b[0mxready\u001b[0m\u001b[1;33m)\u001b[0m\u001b[1;33m\u001b[0m\u001b[1;33m\u001b[0m\u001b[0m\n\u001b[0;32m     85\u001b[0m \u001b[1;33m\u001b[0m\u001b[0m\n",
      "\u001b[1;32m~\\Anaconda3\\lib\\site-packages\\urllib3\\util\\wait.py\u001b[0m in \u001b[0;36m_retry_on_intr\u001b[1;34m(fn, timeout)\u001b[0m\n\u001b[0;32m     40\u001b[0m     \u001b[1;31m# Modern Python, that retries syscalls by default\u001b[0m\u001b[1;33m\u001b[0m\u001b[1;33m\u001b[0m\u001b[1;33m\u001b[0m\u001b[0m\n\u001b[0;32m     41\u001b[0m     \u001b[1;32mdef\u001b[0m \u001b[0m_retry_on_intr\u001b[0m\u001b[1;33m(\u001b[0m\u001b[0mfn\u001b[0m\u001b[1;33m,\u001b[0m \u001b[0mtimeout\u001b[0m\u001b[1;33m)\u001b[0m\u001b[1;33m:\u001b[0m\u001b[1;33m\u001b[0m\u001b[1;33m\u001b[0m\u001b[0m\n\u001b[1;32m---> 42\u001b[1;33m         \u001b[1;32mreturn\u001b[0m \u001b[0mfn\u001b[0m\u001b[1;33m(\u001b[0m\u001b[0mtimeout\u001b[0m\u001b[1;33m)\u001b[0m\u001b[1;33m\u001b[0m\u001b[1;33m\u001b[0m\u001b[0m\n\u001b[0m\u001b[0;32m     43\u001b[0m \u001b[1;32melse\u001b[0m\u001b[1;33m:\u001b[0m\u001b[1;33m\u001b[0m\u001b[1;33m\u001b[0m\u001b[0m\n\u001b[0;32m     44\u001b[0m     \u001b[1;31m# Old and broken Pythons.\u001b[0m\u001b[1;33m\u001b[0m\u001b[1;33m\u001b[0m\u001b[1;33m\u001b[0m\u001b[0m\n",
      "\u001b[1;31mKeyboardInterrupt\u001b[0m: "
     ]
    }
   ],
   "source": [
    "#Setup the authentication with codes provided from Twitter\n",
    "consumer_key = 'WgRr0afbAzn9YqYyYoET9ltX7'\n",
    "consumer_secret = 'qEYUZiTafgAWyCal8EV2O0jPRr5hQuI9rRgEVbCto5kYioHgij'\n",
    "access_token = '1109481200262045698-dg6hGy9rfiKZX779CpuoeqkeboqqOQ'\n",
    "access_secret = '5Z4Xpi2wm3wyYRcuHyz4hhbGeJkDrSDe8Eu5aEK3nzaob'\n",
    "\n",
    "auth = OAuthHandler(consumer_key, consumer_secret)\n",
    "auth.set_access_token(access_token, access_secret)\n",
    "\n",
    "api = tweepy.API(auth)\n",
    "\n",
    "#Setup a Stream Listener to track all tweets related to a topic.\n",
    "#Topic will be provided by user as command line argument\n",
    "from tweepy import Stream\n",
    "from tweepy.streaming import StreamListener\n",
    "\n",
    "topic = input(\"What topic: \")\n",
    "\n",
    "#Get Historical tweets\n",
    "'''\n",
    "date = input(\"Date: \")\n",
    "api = tweepy.API(auth,wait_on_rate_limit=True)\n",
    "\n",
    "f = open(topic.strip('#')+'.json', 'a')\n",
    "for tweet in tweepy.Cursor(api.search,q=topic,count=100,lang=\"en\",since=date).items():\n",
    "    f.write(json.dumps(tweet._json)+'\\n')\n",
    "    print(json.dumps(tweet._json))\n",
    "f.close()\n",
    "'''\n",
    "\n",
    "\n",
    "#Stream Listener\n",
    "class MyListener(StreamListener):\n",
    "\n",
    "    def on_data(self, tweet):\n",
    "        try:\n",
    "            with open(topic.strip('#')+'.csv', 'a') as f:\n",
    "                date_of_tweet = json.loads(tweet)['created_at']\n",
    "                text_of_tweet = json.loads(tweet)['text'].replace('\\n\\n','').replace('\\n','')\n",
    "                \n",
    "                #Parse Date into separate variables\n",
    "                date_of_tweet = datetime.strptime(date_of_tweet, '%a %b %d %H:%M:%S +0000 %Y')\n",
    "                year_of_tweet = date_of_tweet.year\n",
    "                month_of_tweet = date_of_tweet.month\n",
    "                day_of_tweet = date_of_tweet.day\n",
    "                time_of_tweet = date_of_tweet.time()\n",
    "                weekday_of_tweet = date_of_tweet.weekday()\n",
    "                #print(year_of_tweet, month_of_tweet, day_of_tweet, time_of_tweet, weekday_of_tweet)\n",
    "                \n",
    "                print(year_of_tweet, month_of_tweet, day_of_tweet, time_of_tweet, weekday_of_tweet,text_of_tweet)\n",
    "                f.write(str(year_of_tweet)+','+str(month_of_tweet)+','+str(day_of_tweet)+','+str(time_of_tweet)+','+str(weekday_of_tweet)+','+text_of_tweet+'\\n')\n",
    "                return True\n",
    "        except BaseException as e:\n",
    "            print(\"Error on_data: %s\" % str(e))\n",
    "        return True\n",
    "\n",
    "    def on_error(self, status):\n",
    "        print(status)\n",
    "        return True\n",
    "with open(topic.strip('#')+'.csv', 'a') as f:\n",
    "    f.write('Year,'+'Month,'+'Day,'+'Time,'+'Weekday,'+'Text')\n",
    "    f.write('\\n')\n",
    "twitter_stream = Stream(auth, MyListener())\n",
    "twitter_stream.filter(track=[topic])"
   ]
  },
  {
   "cell_type": "markdown",
   "metadata": {},
   "source": [
    "# Model Creation:"
   ]
  },
  {
   "cell_type": "markdown",
   "metadata": {},
   "source": [
    "## Dataset Acquistion"
   ]
  },
  {
   "cell_type": "markdown",
   "metadata": {},
   "source": [
    "Luckily, there exists a labeled corpus of ~5000 tweets labeled with sentiments such as positive and negative. This corpus was assembled by the Sanders Analytics group for the express purpose of aiding in such projects. \n",
    "Dataset taken from this source: https://github.com/zfz/twitter_corpus"
   ]
  },
  {
   "cell_type": "code",
   "execution_count": 77,
   "metadata": {},
   "outputs": [],
   "source": [
    "import numpy as np\n",
    "import pandas as pd\n",
    "import matplotlib.pyplot as plt\n",
    "%matplotlib inline\n",
    "import emoji"
   ]
  },
  {
   "cell_type": "code",
   "execution_count": 73,
   "metadata": {},
   "outputs": [],
   "source": [
    "tweetset = pd.read_csv(\"full-corpus.csv\",parse_dates=['TweetDate'])"
   ]
  },
  {
   "cell_type": "code",
   "execution_count": 74,
   "metadata": {},
   "outputs": [
    {
     "data": {
      "text/html": [
       "<div>\n",
       "<style scoped>\n",
       "    .dataframe tbody tr th:only-of-type {\n",
       "        vertical-align: middle;\n",
       "    }\n",
       "\n",
       "    .dataframe tbody tr th {\n",
       "        vertical-align: top;\n",
       "    }\n",
       "\n",
       "    .dataframe thead th {\n",
       "        text-align: right;\n",
       "    }\n",
       "</style>\n",
       "<table border=\"1\" class=\"dataframe\">\n",
       "  <thead>\n",
       "    <tr style=\"text-align: right;\">\n",
       "      <th></th>\n",
       "      <th>Topic</th>\n",
       "      <th>Sentiment</th>\n",
       "      <th>TweetId</th>\n",
       "      <th>TweetDate</th>\n",
       "      <th>TweetText</th>\n",
       "    </tr>\n",
       "  </thead>\n",
       "  <tbody>\n",
       "    <tr>\n",
       "      <td>0</td>\n",
       "      <td>apple</td>\n",
       "      <td>positive</td>\n",
       "      <td>126415614616154112</td>\n",
       "      <td>2011-10-18 21:53:25+00:00</td>\n",
       "      <td>Now all @Apple has to do is get swype on the i...</td>\n",
       "    </tr>\n",
       "    <tr>\n",
       "      <td>1</td>\n",
       "      <td>apple</td>\n",
       "      <td>positive</td>\n",
       "      <td>126404574230740992</td>\n",
       "      <td>2011-10-18 21:09:33+00:00</td>\n",
       "      <td>@Apple will be adding more carrier support to ...</td>\n",
       "    </tr>\n",
       "    <tr>\n",
       "      <td>2</td>\n",
       "      <td>apple</td>\n",
       "      <td>positive</td>\n",
       "      <td>126402758403305474</td>\n",
       "      <td>2011-10-18 21:02:20+00:00</td>\n",
       "      <td>Hilarious @youtube video - guy does a duet wit...</td>\n",
       "    </tr>\n",
       "    <tr>\n",
       "      <td>3</td>\n",
       "      <td>apple</td>\n",
       "      <td>positive</td>\n",
       "      <td>126397179614068736</td>\n",
       "      <td>2011-10-18 20:40:10+00:00</td>\n",
       "      <td>@RIM you made it too easy for me to switch to ...</td>\n",
       "    </tr>\n",
       "    <tr>\n",
       "      <td>4</td>\n",
       "      <td>apple</td>\n",
       "      <td>positive</td>\n",
       "      <td>126395626979196928</td>\n",
       "      <td>2011-10-18 20:34:00+00:00</td>\n",
       "      <td>I just realized that the reason I got into twi...</td>\n",
       "    </tr>\n",
       "  </tbody>\n",
       "</table>\n",
       "</div>"
      ],
      "text/plain": [
       "   Topic Sentiment             TweetId                 TweetDate  \\\n",
       "0  apple  positive  126415614616154112 2011-10-18 21:53:25+00:00   \n",
       "1  apple  positive  126404574230740992 2011-10-18 21:09:33+00:00   \n",
       "2  apple  positive  126402758403305474 2011-10-18 21:02:20+00:00   \n",
       "3  apple  positive  126397179614068736 2011-10-18 20:40:10+00:00   \n",
       "4  apple  positive  126395626979196928 2011-10-18 20:34:00+00:00   \n",
       "\n",
       "                                           TweetText  \n",
       "0  Now all @Apple has to do is get swype on the i...  \n",
       "1  @Apple will be adding more carrier support to ...  \n",
       "2  Hilarious @youtube video - guy does a duet wit...  \n",
       "3  @RIM you made it too easy for me to switch to ...  \n",
       "4  I just realized that the reason I got into twi...  "
      ]
     },
     "execution_count": 74,
     "metadata": {},
     "output_type": "execute_result"
    }
   ],
   "source": [
    "tweetset.head()"
   ]
  },
  {
   "cell_type": "code",
   "execution_count": 75,
   "metadata": {},
   "outputs": [
    {
     "data": {
      "text/plain": [
       "neutral       2333\n",
       "irrelevant    1689\n",
       "negative       572\n",
       "positive       519\n",
       "Name: Sentiment, dtype: int64"
      ]
     },
     "execution_count": 75,
     "metadata": {},
     "output_type": "execute_result"
    }
   ],
   "source": [
    "tweetset.Sentiment.value_counts()"
   ]
  },
  {
   "cell_type": "markdown",
   "metadata": {},
   "source": [
    "As we can see this dataset is curated to represent the typical comments found on twitter on any given topic: Most will be neutral or irrelevant, and some will be positive or negative. Our job is to build a classifier that can do this on unseen tweets."
   ]
  },
  {
   "cell_type": "markdown",
   "metadata": {},
   "source": [
    "## Data Preprocessing:"
   ]
  },
  {
   "cell_type": "markdown",
   "metadata": {},
   "source": [
    "First we need to tokenize the text of the tweet. This means removing all stopword, special characters, and punctuation"
   ]
  },
  {
   "cell_type": "code",
   "execution_count": 76,
   "metadata": {},
   "outputs": [
    {
     "ename": "SyntaxError",
     "evalue": "unexpected EOF while parsing (<ipython-input-76-cb7911559395>, line 1)",
     "output_type": "error",
     "traceback": [
      "\u001b[1;36m  File \u001b[1;32m\"<ipython-input-76-cb7911559395>\"\u001b[1;36m, line \u001b[1;32m1\u001b[0m\n\u001b[1;33m    def CleanText(tweet):\u001b[0m\n\u001b[1;37m                         ^\u001b[0m\n\u001b[1;31mSyntaxError\u001b[0m\u001b[1;31m:\u001b[0m unexpected EOF while parsing\n"
     ]
    }
   ],
   "source": [
    "def CleanText(tweet):\n",
    "    #Remove everything that is not a word. For emojis, replace with the text equivalent.\n",
    "    "
   ]
  },
  {
   "cell_type": "code",
   "execution_count": null,
   "metadata": {},
   "outputs": [],
   "source": []
  }
 ],
 "metadata": {
  "kernelspec": {
   "display_name": "Python 3",
   "language": "python",
   "name": "python3"
  },
  "language_info": {
   "codemirror_mode": {
    "name": "ipython",
    "version": 3
   },
   "file_extension": ".py",
   "mimetype": "text/x-python",
   "name": "python",
   "nbconvert_exporter": "python",
   "pygments_lexer": "ipython3",
   "version": "3.7.4"
  }
 },
 "nbformat": 4,
 "nbformat_minor": 2
}
